{
 "cells": [
  {
   "cell_type": "code",
   "execution_count": 25,
   "metadata": {},
   "outputs": [],
   "source": [
    "import pandas as pd\n",
    "import numpy as np\n",
    "\n",
    "csv_file = pd.read_csv(\"travisCAD_2.csv\")\n",
    "df = pd.DataFrame(csv_file)\n",
    "df1 = df[df.Type != \"Personal\"]"
   ]
  },
  {
   "cell_type": "code",
   "execution_count": 26,
   "metadata": {},
   "outputs": [
    {
     "name": "stderr",
     "output_type": "stream",
     "text": [
      "C:\\Users\\Owner\\Anaconda3\\lib\\site-packages\\ipykernel_launcher.py:15: SettingWithCopyWarning: \n",
      "A value is trying to be set on a copy of a slice from a DataFrame.\n",
      "Try using .loc[row_indexer,col_indexer] = value instead\n",
      "\n",
      "See the caveats in the documentation: http://pandas.pydata.org/pandas-docs/stable/indexing.html#indexing-view-versus-copy\n",
      "  from ipykernel import kernelapp as app\n",
      "C:\\Users\\Owner\\Anaconda3\\lib\\site-packages\\ipykernel_launcher.py:16: SettingWithCopyWarning: \n",
      "A value is trying to be set on a copy of a slice from a DataFrame.\n",
      "Try using .loc[row_indexer,col_indexer] = value instead\n",
      "\n",
      "See the caveats in the documentation: http://pandas.pydata.org/pandas-docs/stable/indexing.html#indexing-view-versus-copy\n",
      "  app.launch_new_instance()\n",
      "C:\\Users\\Owner\\Anaconda3\\lib\\site-packages\\ipykernel_launcher.py:17: SettingWithCopyWarning: \n",
      "A value is trying to be set on a copy of a slice from a DataFrame.\n",
      "Try using .loc[row_indexer,col_indexer] = value instead\n",
      "\n",
      "See the caveats in the documentation: http://pandas.pydata.org/pandas-docs/stable/indexing.html#indexing-view-versus-copy\n"
     ]
    },
    {
     "data": {
      "text/html": [
       "<div>\n",
       "<style scoped>\n",
       "    .dataframe tbody tr th:only-of-type {\n",
       "        vertical-align: middle;\n",
       "    }\n",
       "\n",
       "    .dataframe tbody tr th {\n",
       "        vertical-align: top;\n",
       "    }\n",
       "\n",
       "    .dataframe thead th {\n",
       "        text-align: right;\n",
       "    }\n",
       "</style>\n",
       "<table border=\"1\" class=\"dataframe\">\n",
       "  <thead>\n",
       "    <tr style=\"text-align: right;\">\n",
       "      <th></th>\n",
       "      <th>Type</th>\n",
       "      <th>Property Address</th>\n",
       "      <th>Appraised Value</th>\n",
       "      <th>Year</th>\n",
       "      <th>Zipcode</th>\n",
       "      <th>Address</th>\n",
       "      <th>State</th>\n",
       "    </tr>\n",
       "  </thead>\n",
       "  <tbody>\n",
       "    <tr>\n",
       "      <th>0</th>\n",
       "      <td>Mobile Home</td>\n",
       "      <td>13021 DESSAU RD 653 AUSTIN, TX 78754</td>\n",
       "      <td>$78,944</td>\n",
       "      <td>2019</td>\n",
       "      <td>78754</td>\n",
       "      <td>13021 DESSAU RD 653 AUSTIN,</td>\n",
       "      <td>TX</td>\n",
       "    </tr>\n",
       "    <tr>\n",
       "      <th>1</th>\n",
       "      <td>Real</td>\n",
       "      <td>5703 MEDIAN RD TX 78734</td>\n",
       "      <td>$369,748</td>\n",
       "      <td>2019</td>\n",
       "      <td>78734</td>\n",
       "      <td>5703 MEDIAN RD</td>\n",
       "      <td>TX</td>\n",
       "    </tr>\n",
       "    <tr>\n",
       "      <th>5</th>\n",
       "      <td>Real</td>\n",
       "      <td>12116 INNES VIEW RD TX 78653</td>\n",
       "      <td>$258,197</td>\n",
       "      <td>2019</td>\n",
       "      <td>78653</td>\n",
       "      <td>12116 INNES VIEW RD</td>\n",
       "      <td>TX</td>\n",
       "    </tr>\n",
       "    <tr>\n",
       "      <th>6</th>\n",
       "      <td>Mobile Home</td>\n",
       "      <td>13021 DESSAU RD 703 AUSTIN, TX 78754</td>\n",
       "      <td>$69,697</td>\n",
       "      <td>2019</td>\n",
       "      <td>78754</td>\n",
       "      <td>13021 DESSAU RD 703 AUSTIN,</td>\n",
       "      <td>TX</td>\n",
       "    </tr>\n",
       "    <tr>\n",
       "      <th>13</th>\n",
       "      <td>Real</td>\n",
       "      <td>12916 JAMES MADISON ST TX 78653</td>\n",
       "      <td>$177,203</td>\n",
       "      <td>2019</td>\n",
       "      <td>78653</td>\n",
       "      <td>12916 JAMES MADISON ST</td>\n",
       "      <td>TX</td>\n",
       "    </tr>\n",
       "  </tbody>\n",
       "</table>\n",
       "</div>"
      ],
      "text/plain": [
       "           Type                      Property Address Appraised Value  Year  \\\n",
       "0   Mobile Home  13021 DESSAU RD 653 AUSTIN, TX 78754         $78,944  2019   \n",
       "1          Real               5703 MEDIAN RD TX 78734        $369,748  2019   \n",
       "5          Real          12116 INNES VIEW RD TX 78653        $258,197  2019   \n",
       "6   Mobile Home  13021 DESSAU RD 703 AUSTIN, TX 78754         $69,697  2019   \n",
       "13         Real       12916 JAMES MADISON ST TX 78653        $177,203  2019   \n",
       "\n",
       "   Zipcode                      Address State  \n",
       "0    78754  13021 DESSAU RD 653 AUSTIN,    TX  \n",
       "1    78734               5703 MEDIAN RD    TX  \n",
       "5    78653          12116 INNES VIEW RD    TX  \n",
       "6    78754  13021 DESSAU RD 703 AUSTIN,    TX  \n",
       "13   78653       12916 JAMES MADISON ST    TX  "
      ]
     },
     "execution_count": 26,
     "metadata": {},
     "output_type": "execute_result"
    }
   ],
   "source": [
    "\n",
    "\n",
    "def get_zip(address):\n",
    "    zipcode = address.split(\" \")[-1]\n",
    "    return zipcode\n",
    "\n",
    "def get_property(address):\n",
    "    split_address = address.split(\" \")\n",
    "    return \" \".join(split_address[:-2])\n",
    "\n",
    "def get_state(address):\n",
    "    split_state = address.split(\" \")\n",
    "    return \" \".join(split_state[-2:-1])\n",
    "\n",
    "df1[\"Zipcode\"] = df1[\"Property Address\"].map(get_zip)\n",
    "df1[\"Address\"] = df1[\"Property Address\"].map(get_property)\n",
    "df1[\"State\"] = df1[\"Property Address\"].map(get_state)\n",
    "df1.head()"
   ]
  },
  {
   "cell_type": "code",
   "execution_count": 27,
   "metadata": {},
   "outputs": [
    {
     "name": "stderr",
     "output_type": "stream",
     "text": [
      "C:\\Users\\Owner\\Anaconda3\\lib\\site-packages\\ipykernel_launcher.py:1: SettingWithCopyWarning: \n",
      "A value is trying to be set on a copy of a slice from a DataFrame.\n",
      "Try using .loc[row_indexer,col_indexer] = value instead\n",
      "\n",
      "See the caveats in the documentation: http://pandas.pydata.org/pandas-docs/stable/indexing.html#indexing-view-versus-copy\n",
      "  \"\"\"Entry point for launching an IPython kernel.\n"
     ]
    }
   ],
   "source": [
    "df1[\"Value\"] = df1['Appraised Value'].map(lambda x: float(x.replace(\"$\", \"\").replace(\",\", \"\")))"
   ]
  },
  {
   "cell_type": "code",
   "execution_count": 31,
   "metadata": {},
   "outputs": [
    {
     "name": "stderr",
     "output_type": "stream",
     "text": [
      "C:\\Users\\Owner\\Anaconda3\\lib\\site-packages\\pandas\\core\\frame.py:3940: SettingWithCopyWarning: \n",
      "A value is trying to be set on a copy of a slice from a DataFrame\n",
      "\n",
      "See the caveats in the documentation: http://pandas.pydata.org/pandas-docs/stable/indexing.html#indexing-view-versus-copy\n",
      "  errors=errors)\n"
     ]
    },
    {
     "data": {
      "text/html": [
       "<div>\n",
       "<style scoped>\n",
       "    .dataframe tbody tr th:only-of-type {\n",
       "        vertical-align: middle;\n",
       "    }\n",
       "\n",
       "    .dataframe tbody tr th {\n",
       "        vertical-align: top;\n",
       "    }\n",
       "\n",
       "    .dataframe thead th {\n",
       "        text-align: right;\n",
       "    }\n",
       "</style>\n",
       "<table border=\"1\" class=\"dataframe\">\n",
       "  <thead>\n",
       "    <tr style=\"text-align: right;\">\n",
       "      <th></th>\n",
       "      <th>Type</th>\n",
       "      <th>Year</th>\n",
       "      <th>Zipcode</th>\n",
       "      <th>Address</th>\n",
       "      <th>State</th>\n",
       "      <th>Value</th>\n",
       "    </tr>\n",
       "  </thead>\n",
       "  <tbody>\n",
       "    <tr>\n",
       "      <th>0</th>\n",
       "      <td>Mobile Home</td>\n",
       "      <td>2019</td>\n",
       "      <td>78754</td>\n",
       "      <td>13021 DESSAU RD 653 AUSTIN,</td>\n",
       "      <td>TX</td>\n",
       "      <td>78944.0</td>\n",
       "    </tr>\n",
       "    <tr>\n",
       "      <th>1</th>\n",
       "      <td>Real</td>\n",
       "      <td>2019</td>\n",
       "      <td>78734</td>\n",
       "      <td>5703 MEDIAN RD</td>\n",
       "      <td>TX</td>\n",
       "      <td>369748.0</td>\n",
       "    </tr>\n",
       "    <tr>\n",
       "      <th>2</th>\n",
       "      <td>Real</td>\n",
       "      <td>2019</td>\n",
       "      <td>78653</td>\n",
       "      <td>12116 INNES VIEW RD</td>\n",
       "      <td>TX</td>\n",
       "      <td>258197.0</td>\n",
       "    </tr>\n",
       "    <tr>\n",
       "      <th>3</th>\n",
       "      <td>Mobile Home</td>\n",
       "      <td>2019</td>\n",
       "      <td>78754</td>\n",
       "      <td>13021 DESSAU RD 703 AUSTIN,</td>\n",
       "      <td>TX</td>\n",
       "      <td>69697.0</td>\n",
       "    </tr>\n",
       "    <tr>\n",
       "      <th>4</th>\n",
       "      <td>Real</td>\n",
       "      <td>2019</td>\n",
       "      <td>78653</td>\n",
       "      <td>12916 JAMES MADISON ST</td>\n",
       "      <td>TX</td>\n",
       "      <td>177203.0</td>\n",
       "    </tr>\n",
       "  </tbody>\n",
       "</table>\n",
       "</div>"
      ],
      "text/plain": [
       "          Type  Year Zipcode                      Address State     Value\n",
       "0  Mobile Home  2019   78754  13021 DESSAU RD 653 AUSTIN,    TX   78944.0\n",
       "1         Real  2019   78734               5703 MEDIAN RD    TX  369748.0\n",
       "2         Real  2019   78653          12116 INNES VIEW RD    TX  258197.0\n",
       "3  Mobile Home  2019   78754  13021 DESSAU RD 703 AUSTIN,    TX   69697.0\n",
       "4         Real  2019   78653       12916 JAMES MADISON ST    TX  177203.0"
      ]
     },
     "execution_count": 31,
     "metadata": {},
     "output_type": "execute_result"
    }
   ],
   "source": [
    "df1.reset_index(inplace=True)\n",
    "columns = [\"index\",\"Property Address\",\"Appraised Value\"]\n",
    "df1.drop(columns, inplace=True, axis=1)\n",
    "df1.head()"
   ]
  },
  {
   "cell_type": "code",
   "execution_count": 49,
   "metadata": {},
   "outputs": [
    {
     "data": {
      "text/html": [
       "<div>\n",
       "<style scoped>\n",
       "    .dataframe tbody tr th:only-of-type {\n",
       "        vertical-align: middle;\n",
       "    }\n",
       "\n",
       "    .dataframe tbody tr th {\n",
       "        vertical-align: top;\n",
       "    }\n",
       "\n",
       "    .dataframe thead th {\n",
       "        text-align: right;\n",
       "    }\n",
       "</style>\n",
       "<table border=\"1\" class=\"dataframe\">\n",
       "  <thead>\n",
       "    <tr style=\"text-align: right;\">\n",
       "      <th></th>\n",
       "      <th>Type</th>\n",
       "      <th>Zipcode</th>\n",
       "      <th>Property Address</th>\n",
       "      <th>State</th>\n",
       "      <th>2019 Appraised Value</th>\n",
       "    </tr>\n",
       "  </thead>\n",
       "  <tbody>\n",
       "    <tr>\n",
       "      <th>0</th>\n",
       "      <td>Mobile Home</td>\n",
       "      <td>78754</td>\n",
       "      <td>13021 DESSAU RD 653</td>\n",
       "      <td>TX</td>\n",
       "      <td>78944.0</td>\n",
       "    </tr>\n",
       "    <tr>\n",
       "      <th>1</th>\n",
       "      <td>Real</td>\n",
       "      <td>78734</td>\n",
       "      <td>5703 MEDIAN RD</td>\n",
       "      <td>TX</td>\n",
       "      <td>369748.0</td>\n",
       "    </tr>\n",
       "    <tr>\n",
       "      <th>2</th>\n",
       "      <td>Real</td>\n",
       "      <td>78653</td>\n",
       "      <td>12116 INNES VIEW RD</td>\n",
       "      <td>TX</td>\n",
       "      <td>258197.0</td>\n",
       "    </tr>\n",
       "    <tr>\n",
       "      <th>3</th>\n",
       "      <td>Mobile Home</td>\n",
       "      <td>78754</td>\n",
       "      <td>13021 DESSAU RD 703</td>\n",
       "      <td>TX</td>\n",
       "      <td>69697.0</td>\n",
       "    </tr>\n",
       "    <tr>\n",
       "      <th>4</th>\n",
       "      <td>Real</td>\n",
       "      <td>78653</td>\n",
       "      <td>12916 JAMES MADISON ST</td>\n",
       "      <td>TX</td>\n",
       "      <td>177203.0</td>\n",
       "    </tr>\n",
       "  </tbody>\n",
       "</table>\n",
       "</div>"
      ],
      "text/plain": [
       "          Type Zipcode        Property Address State  2019 Appraised Value\n",
       "0  Mobile Home   78754     13021 DESSAU RD 653    TX               78944.0\n",
       "1         Real   78734          5703 MEDIAN RD    TX              369748.0\n",
       "2         Real   78653     12116 INNES VIEW RD    TX              258197.0\n",
       "3  Mobile Home   78754     13021 DESSAU RD 703    TX               69697.0\n",
       "4         Real   78653  12916 JAMES MADISON ST    TX              177203.0"
      ]
     },
     "execution_count": 49,
     "metadata": {},
     "output_type": "execute_result"
    }
   ],
   "source": [
    "df2 = df1.rename({\"Address\":\"Property Address\",\"Value\" : \"2019 Appraised Value\"} , axis=1)\n",
    "df2[\"Property Address\"] = df2[\"Property Address\"].replace(' AUSTIN,',\"\", regex=True)\n",
    "df2[\"Property Address\"] = df2[\"Property Address\"].replace(' MANOR,',\"\", regex=True)\n",
    "df2[\"Property Address\"] = df2[\"Property Address\"].replace(' LEANDER,',\"\", regex=True)\n",
    "df2[\"Property Address\"] = df2[\"Property Address\"].replace(',',\"\", regex=True)\n",
    "\n",
    "df2.drop(\"Year\", inplace=True, axis=1)\n",
    "df2.head(5)\n",
    "\n"
   ]
  },
  {
   "cell_type": "code",
   "execution_count": 50,
   "metadata": {},
   "outputs": [
    {
     "name": "stdout",
     "output_type": "stream",
     "text": [
      "383228\n"
     ]
    }
   ],
   "source": [
    "#df2.drop_duplicates(keep=False, inplace=True) \n",
    "df2.to_csv('travisCAD_cleaned.csv', index=False) \n",
    "print(len(df2))"
   ]
  },
  {
   "cell_type": "code",
   "execution_count": 51,
   "metadata": {},
   "outputs": [
    {
     "name": "stdout",
     "output_type": "stream",
     "text": [
      "383228\n"
     ]
    }
   ],
   "source": [
    "print(len(df2))\n"
   ]
  },
  {
   "cell_type": "code",
   "execution_count": null,
   "metadata": {},
   "outputs": [],
   "source": []
  }
 ],
 "metadata": {
  "kernelspec": {
   "display_name": "Python 3",
   "language": "python",
   "name": "python3"
  },
  "language_info": {
   "codemirror_mode": {
    "name": "ipython",
    "version": 3
   },
   "file_extension": ".py",
   "mimetype": "text/x-python",
   "name": "python",
   "nbconvert_exporter": "python",
   "pygments_lexer": "ipython3",
   "version": "3.7.3"
  }
 },
 "nbformat": 4,
 "nbformat_minor": 2
}
